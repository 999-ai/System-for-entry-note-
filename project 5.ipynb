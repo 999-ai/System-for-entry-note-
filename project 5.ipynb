{
 "cells": [
  {
   "cell_type": "code",
   "execution_count": null,
   "id": "a2ad12bd-2d13-43dc-be34-9b38c7341de8",
   "metadata": {},
   "outputs": [],
   "source": [
    "note_list=[]\n",
    "counter=0\n",
    "number=int(input(\"How many note do you want to add?\"))\n",
    "\n",
    "\n",
    "while counter<=number:\n",
    " note=int(input(\"Please tell me a note\"))\n",
    " if number<0:\n",
    "   print(\"Please enter a number greater than zero\")  \n",
    " else:\n",
    "  counter+=1\n",
    "  note_list.append(note)\n",
    "print(note_list)\n",
    "\n",
    "def avg():\n",
    "   \n",
    "   return sum(note_list)/len(note_list)\n",
    "result=avg()\n",
    "print(\"average:\",result)\n",
    "\n",
    "if result>=60:\n",
    "    print(\"passed\")\n",
    "else:\n",
    "    print(\"failed\")"
   ]
  }
 ],
 "metadata": {
  "kernelspec": {
   "display_name": "Python 3 (ipykernel)",
   "language": "python",
   "name": "python3"
  },
  "language_info": {
   "codemirror_mode": {
    "name": "ipython",
    "version": 3
   },
   "file_extension": ".py",
   "mimetype": "text/x-python",
   "name": "python",
   "nbconvert_exporter": "python",
   "pygments_lexer": "ipython3",
   "version": "3.12.4"
  }
 },
 "nbformat": 4,
 "nbformat_minor": 5
}
